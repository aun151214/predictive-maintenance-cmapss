{
 "cells": [
  {
   "cell_type": "code",
   "execution_count": 3,
   "id": "62b99d69",
   "metadata": {},
   "outputs": [
    {
     "name": "stdout",
     "output_type": "stream",
     "text": [
      "X shape: (17631, 30, 24)\n",
      "y shape: (17631,)\n",
      "X_flat shape: (17631, 24)\n"
     ]
    }
   ],
   "source": [
    "import numpy as np\n",
    "from sklearn.model_selection import train_test_split\n",
    "from sklearn.metrics import mean_squared_error, mean_absolute_error, r2_score\n",
    "\n",
    "# Load processed sequences & labels\n",
    "X = np.load(\"../data/processed/X_train_fd001.npy\")\n",
    "y = np.load(\"../data/processed/y_train_fd001.npy\")\n",
    "\n",
    "print(\"X shape:\", X.shape)   # (samples, seq_len, num_features)\n",
    "print(\"y shape:\", y.shape)   # (samples,)\n",
    "\n",
    "# Flatten sequence for classic ML (use last cycle only)\n",
    "X_flat = X[:, -1, :]  # take last timestep\n",
    "print(\"X_flat shape:\", X_flat.shape)\n",
    "\n",
    "# Train/test split\n",
    "X_train, X_val, y_train, y_val = train_test_split(X_flat, y, test_size=0.2, random_state=42)\n"
   ]
  },
  {
   "cell_type": "code",
   "execution_count": 4,
   "id": "e603d4e7",
   "metadata": {},
   "outputs": [],
   "source": [
    "from sklearn.linear_model import LinearRegression\n",
    "\n",
    "lr = LinearRegression()\n",
    "lr.fit(X_train, y_train)\n",
    "y_pred_lr = lr.predict(X_val)\n"
   ]
  },
  {
   "cell_type": "code",
   "execution_count": 5,
   "id": "2ed94557",
   "metadata": {},
   "outputs": [],
   "source": [
    "from sklearn.ensemble import RandomForestRegressor\n",
    "\n",
    "rf = RandomForestRegressor(n_estimators=100, random_state=42)\n",
    "rf.fit(X_train, y_train)\n",
    "y_pred_rf = rf.predict(X_val)\n"
   ]
  },
  {
   "cell_type": "code",
   "execution_count": 9,
   "id": "e1d0b143",
   "metadata": {},
   "outputs": [],
   "source": [
    "from xgboost import XGBRegressor\n",
    "\n",
    "xgb = XGBRegressor(n_estimators=200, learning_rate=0.05, max_depth=6, random_state=42)\n",
    "xgb.fit(X_train, y_train)\n",
    "y_pred_xgb = xgb.predict(X_val)\n"
   ]
  },
  {
   "cell_type": "code",
   "execution_count": 10,
   "id": "aeac94ac",
   "metadata": {},
   "outputs": [
    {
     "name": "stdout",
     "output_type": "stream",
     "text": [
      "Linear Regression → RMSE: 38.84, MAE: 29.19, R²: 0.596\n",
      "Random Forest → RMSE: 36.96, MAE: 26.01, R²: 0.634\n",
      "XGBoost → RMSE: 36.68, MAE: 25.75, R²: 0.640\n"
     ]
    }
   ],
   "source": [
    "import math\n",
    "\n",
    "def evaluate_model(y_true, y_pred, name):\n",
    "    rmse = math.sqrt(mean_squared_error(y_true, y_pred))\n",
    "    mae = mean_absolute_error(y_true, y_pred)\n",
    "    r2 = r2_score(y_true, y_pred)\n",
    "    print(f\"{name} → RMSE: {rmse:.2f}, MAE: {mae:.2f}, R²: {r2:.3f}\")\n",
    "    return rmse, mae, r2\n",
    "\n",
    "results = {}\n",
    "results['LR'] = evaluate_model(y_val, y_pred_lr, \"Linear Regression\")\n",
    "results['RF'] = evaluate_model(y_val, y_pred_rf, \"Random Forest\")\n",
    "results['XGB'] = evaluate_model(y_val, y_pred_xgb, \"XGBoost\")\n"
   ]
  },
  {
   "cell_type": "code",
   "execution_count": 11,
   "id": "dd3fad19",
   "metadata": {},
   "outputs": [
    {
     "name": "stdout",
     "output_type": "stream",
     "text": [
      "✅ Results saved to ../results/baseline_fd001.csv\n"
     ]
    },
    {
     "data": {
      "text/html": [
       "<div>\n",
       "<style scoped>\n",
       "    .dataframe tbody tr th:only-of-type {\n",
       "        vertical-align: middle;\n",
       "    }\n",
       "\n",
       "    .dataframe tbody tr th {\n",
       "        vertical-align: top;\n",
       "    }\n",
       "\n",
       "    .dataframe thead th {\n",
       "        text-align: right;\n",
       "    }\n",
       "</style>\n",
       "<table border=\"1\" class=\"dataframe\">\n",
       "  <thead>\n",
       "    <tr style=\"text-align: right;\">\n",
       "      <th></th>\n",
       "      <th>RMSE</th>\n",
       "      <th>MAE</th>\n",
       "      <th>R2</th>\n",
       "    </tr>\n",
       "  </thead>\n",
       "  <tbody>\n",
       "    <tr>\n",
       "      <th>Linear Regression</th>\n",
       "      <td>38.84</td>\n",
       "      <td>29.19</td>\n",
       "      <td>0.596</td>\n",
       "    </tr>\n",
       "    <tr>\n",
       "      <th>Random Forest</th>\n",
       "      <td>36.96</td>\n",
       "      <td>26.01</td>\n",
       "      <td>0.634</td>\n",
       "    </tr>\n",
       "    <tr>\n",
       "      <th>XGBoost</th>\n",
       "      <td>36.68</td>\n",
       "      <td>25.75</td>\n",
       "      <td>0.640</td>\n",
       "    </tr>\n",
       "  </tbody>\n",
       "</table>\n",
       "</div>"
      ],
      "text/plain": [
       "                    RMSE    MAE     R2\n",
       "Linear Regression  38.84  29.19  0.596\n",
       "Random Forest      36.96  26.01  0.634\n",
       "XGBoost            36.68  25.75  0.640"
      ]
     },
     "execution_count": 11,
     "metadata": {},
     "output_type": "execute_result"
    }
   ],
   "source": [
    "import pandas as pd\n",
    "import os\n",
    "\n",
    "# Collect results into DataFrame\n",
    "results_dict = {\n",
    "    \"Linear Regression\": [38.84, 29.19, 0.596],\n",
    "    \"Random Forest\": [36.96, 26.01, 0.634],\n",
    "    \"XGBoost\": [36.68, 25.75, 0.640]\n",
    "}\n",
    "\n",
    "df_results = pd.DataFrame.from_dict(\n",
    "    results_dict,\n",
    "    orient='index',\n",
    "    columns=['RMSE', 'MAE', 'R2']\n",
    ")\n",
    "\n",
    "# Make sure results folder exists\n",
    "os.makedirs(\"../results\", exist_ok=True)\n",
    "\n",
    "# Save as CSV\n",
    "df_results.to_csv(\"../results/baseline_fd001.csv\")\n",
    "\n",
    "print(\"✅ Results saved to ../results/baseline_fd001.csv\")\n",
    "df_results\n"
   ]
  }
 ],
 "metadata": {
  "kernelspec": {
   "display_name": ".venv",
   "language": "python",
   "name": "python3"
  },
  "language_info": {
   "codemirror_mode": {
    "name": "ipython",
    "version": 3
   },
   "file_extension": ".py",
   "mimetype": "text/x-python",
   "name": "python",
   "nbconvert_exporter": "python",
   "pygments_lexer": "ipython3",
   "version": "3.11.9"
  }
 },
 "nbformat": 4,
 "nbformat_minor": 5
}
